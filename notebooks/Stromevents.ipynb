{
 "cells": [
  {
   "cell_type": "code",
   "execution_count": 59,
   "id": "bc0b2013",
   "metadata": {},
   "outputs": [],
   "source": [
    "import pandas as pd\n",
    "import matplotlib.pyplot as plt"
   ]
  },
  {
   "cell_type": "code",
   "execution_count": 64,
   "id": "90c6b29f",
   "metadata": {},
   "outputs": [],
   "source": [
    "stormevents = pd.read_csv(\"../data/StormEvents_details-ftp_v1.0_d1950_c20250520.csv\")"
   ]
  },
  {
   "cell_type": "code",
   "execution_count": 65,
   "id": "bdf11c04",
   "metadata": {},
   "outputs": [],
   "source": [
    "stormevents2013 = pd.read_csv(\"../data/StormEvents_details-ftp_v1.0_d2013_c20250520.csv\")"
   ]
  },
  {
   "cell_type": "code",
   "execution_count": 51,
   "id": "fcf6afd1",
   "metadata": {},
   "outputs": [
    {
     "name": "stdout",
     "output_type": "stream",
     "text": [
      "(223, 51)\n",
      "Index(['BEGIN_YEARMONTH', 'BEGIN_DAY', 'BEGIN_TIME', 'END_YEARMONTH',\n",
      "       'END_DAY', 'END_TIME', 'EPISODE_ID', 'EVENT_ID', 'STATE', 'STATE_FIPS',\n",
      "       'YEAR', 'MONTH_NAME', 'EVENT_TYPE', 'CZ_TYPE', 'CZ_FIPS', 'CZ_NAME',\n",
      "       'WFO', 'BEGIN_DATE_TIME', 'CZ_TIMEZONE', 'END_DATE_TIME',\n",
      "       'INJURIES_DIRECT', 'INJURIES_INDIRECT', 'DEATHS_DIRECT',\n",
      "       'DEATHS_INDIRECT', 'DAMAGE_PROPERTY', 'DAMAGE_CROPS', 'SOURCE',\n",
      "       'MAGNITUDE', 'MAGNITUDE_TYPE', 'FLOOD_CAUSE', 'CATEGORY', 'TOR_F_SCALE',\n",
      "       'TOR_LENGTH', 'TOR_WIDTH', 'TOR_OTHER_WFO', 'TOR_OTHER_CZ_STATE',\n",
      "       'TOR_OTHER_CZ_FIPS', 'TOR_OTHER_CZ_NAME', 'BEGIN_RANGE',\n",
      "       'BEGIN_AZIMUTH', 'BEGIN_LOCATION', 'END_RANGE', 'END_AZIMUTH',\n",
      "       'END_LOCATION', 'BEGIN_LAT', 'BEGIN_LON', 'END_LAT', 'END_LON',\n",
      "       'EPISODE_NARRATIVE', 'EVENT_NARRATIVE', 'DATA_SOURCE'],\n",
      "      dtype='object')\n"
     ]
    },
    {
     "data": {
      "text/plain": [
       "DAMAGE_PROPERTY\n",
       "25K     75\n",
       "250K    60\n",
       "2.5K    42\n",
       "0K      28\n",
       "2.5M     7\n",
       ".25K     6\n",
       ".03K     5\n",
       "Name: count, dtype: int64"
      ]
     },
     "execution_count": 51,
     "metadata": {},
     "output_type": "execute_result"
    }
   ],
   "source": [
    "print(stormevents.shape)\n",
    "print(stormevents.columns)\n",
    "#print(stormevents['EPISODE_NARRATIVE'].isna().all())\n",
    "#print(stormevents['EPISODE_NARRATIVE'].value_counts())\n",
    "#stormevents['EVENT_TYPE'].head(20)\n",
    "stormevents['DAMAGE_PROPERTY'].head(20)\n",
    "stormevents['DAMAGE_PROPERTY'].describe()\n",
    "stormevents['DAMAGE_PROPERTY'].value_counts()\n"
   ]
  },
  {
   "cell_type": "code",
   "execution_count": null,
   "id": "13d669d2",
   "metadata": {},
   "outputs": [],
   "source": [
    "def convert_to_number(x):\n",
    "    if 'K' in x:\n",
    "        return float(x.replace('K', '')) * 1000\n",
    "    elif 'M' in x:\n",
    "        return float(x.replace('M', '')) * 1000000\n",
    "    else:\n",
    "        return(float(x))\n",
    "    return x\n"
   ]
  },
  {
   "cell_type": "code",
   "execution_count": 54,
   "id": "c9e8deb1",
   "metadata": {},
   "outputs": [],
   "source": [
    "stormevents['DAMAGE_PROPERTY'] = stormevents['DAMAGE_PROPERTY'].apply(convert_to_number)"
   ]
  },
  {
   "cell_type": "code",
   "execution_count": 46,
   "id": "0663afdf",
   "metadata": {},
   "outputs": [
    {
     "data": {
      "text/plain": [
       "DAMAGE_PROPERTY\n",
       "25000.0      75\n",
       "250000.0     60\n",
       "2500.0       42\n",
       "0.0          28\n",
       "2500000.0     7\n",
       "250.0         6\n",
       "30.0          5\n",
       "Name: count, dtype: int64"
      ]
     },
     "execution_count": 46,
     "metadata": {},
     "output_type": "execute_result"
    }
   ],
   "source": [
    "stormevents['DAMAGE_PROPERTY'].head(20)\n",
    "stormevents['DAMAGE_PROPERTY'].describe()\n",
    "stormevents['DAMAGE_PROPERTY'].value_counts()"
   ]
  },
  {
   "cell_type": "code",
   "execution_count": 57,
   "id": "cdc0e595",
   "metadata": {},
   "outputs": [
    {
     "data": {
      "text/plain": [
       "count    223.0\n",
       "mean       0.0\n",
       "std        0.0\n",
       "min        0.0\n",
       "25%        0.0\n",
       "50%        0.0\n",
       "75%        0.0\n",
       "max        0.0\n",
       "Name: DAMAGE_CROPS, dtype: float64"
      ]
     },
     "execution_count": 57,
     "metadata": {},
     "output_type": "execute_result"
    }
   ],
   "source": [
    "stormevents['DAMAGE_CROPS'].describe()"
   ]
  },
  {
   "cell_type": "code",
   "execution_count": 63,
   "id": "d27a492e",
   "metadata": {},
   "outputs": [
    {
     "name": "stdout",
     "output_type": "stream",
     "text": [
      "True\n"
     ]
    }
   ],
   "source": [
    "print(stormevents['EVENT_NARRATIVE'].isna().all())"
   ]
  },
  {
   "cell_type": "code",
   "execution_count": null,
   "id": "29ff39be",
   "metadata": {},
   "outputs": [
    {
     "data": {
      "text/plain": [
       "(array([81., 75.,  0.,  0.,  0.,  0.,  0.,  0.,  0.,  0., 60.,  0.,  0.,\n",
       "         0.,  0.,  0.,  0.,  0.,  0.,  0.,  0.,  0.,  0.,  0.,  0.,  0.,\n",
       "         0.,  0.,  0.,  0.,  0.,  0.,  0.,  0.,  0.,  0.,  0.,  0.,  0.,\n",
       "         0.,  0.,  0.,  0.,  0.,  0.,  0.,  0.,  0.,  0.,  0.,  0.,  0.,\n",
       "         0.,  0.,  0.,  0.,  0.,  0.,  0.,  0.,  0.,  0.,  0.,  0.,  0.,\n",
       "         0.,  0.,  0.,  0.,  0.,  0.,  0.,  0.,  0.,  0.,  0.,  0.,  0.,\n",
       "         0.,  0.,  0.,  0.,  0.,  0.,  0.,  0.,  0.,  0.,  0.,  0.,  0.,\n",
       "         0.,  0.,  0.,  0.,  0.,  0.,  0.,  0.,  7.]),\n",
       " array([      0.,   25000.,   50000.,   75000.,  100000.,  125000.,\n",
       "         150000.,  175000.,  200000.,  225000.,  250000.,  275000.,\n",
       "         300000.,  325000.,  350000.,  375000.,  400000.,  425000.,\n",
       "         450000.,  475000.,  500000.,  525000.,  550000.,  575000.,\n",
       "         600000.,  625000.,  650000.,  675000.,  700000.,  725000.,\n",
       "         750000.,  775000.,  800000.,  825000.,  850000.,  875000.,\n",
       "         900000.,  925000.,  950000.,  975000., 1000000., 1025000.,\n",
       "        1050000., 1075000., 1100000., 1125000., 1150000., 1175000.,\n",
       "        1200000., 1225000., 1250000., 1275000., 1300000., 1325000.,\n",
       "        1350000., 1375000., 1400000., 1425000., 1450000., 1475000.,\n",
       "        1500000., 1525000., 1550000., 1575000., 1600000., 1625000.,\n",
       "        1650000., 1675000., 1700000., 1725000., 1750000., 1775000.,\n",
       "        1800000., 1825000., 1850000., 1875000., 1900000., 1925000.,\n",
       "        1950000., 1975000., 2000000., 2025000., 2050000., 2075000.,\n",
       "        2100000., 2125000., 2150000., 2175000., 2200000., 2225000.,\n",
       "        2250000., 2275000., 2300000., 2325000., 2350000., 2375000.,\n",
       "        2400000., 2425000., 2450000., 2475000., 2500000.]),\n",
       " <BarContainer object of 100 artists>)"
      ]
     },
     "execution_count": 61,
     "metadata": {},
     "output_type": "execute_result"
    },
    {
     "data": {
      "image/png": "[encoded data removed]",
      "text/plain": [
       "<Figure size 640x480 with 1 Axes>"
      ]
     },
     "metadata": {},
     "output_type": "display_data"
    }
   ],
   "source": [
    "#plt.hist(stormevents['DAMAGE_PROPERTY'], bins = 100)"
   ]
  },
  {
   "cell_type": "code",
   "execution_count": 83,
   "id": "8d8e72de",
   "metadata": {},
   "outputs": [
    {
     "name": "stdout",
     "output_type": "stream",
     "text": [
      "EVENT_NARRATIVE\n",
      "False    44492\n",
      "True     15494\n",
      "Name: count, dtype: int64\n"
     ]
    },
    {
     "data": {
      "text/plain": [
       "Index(['STATE', 'MONTH_NAME', 'EVENT_TYPE', 'CZ_TYPE', 'CZ_NAME', 'WFO',\n",
       "       'BEGIN_DATE_TIME', 'CZ_TIMEZONE', 'END_DATE_TIME', 'DAMAGE_PROPERTY',\n",
       "       'DAMAGE_CROPS', 'SOURCE', 'MAGNITUDE_TYPE', 'FLOOD_CAUSE',\n",
       "       'TOR_F_SCALE', 'TOR_OTHER_WFO', 'TOR_OTHER_CZ_STATE',\n",
       "       'TOR_OTHER_CZ_NAME', 'BEGIN_AZIMUTH', 'BEGIN_LOCATION', 'END_AZIMUTH',\n",
       "       'END_LOCATION', 'EPISODE_NARRATIVE', 'EVENT_NARRATIVE', 'DATA_SOURCE'],\n",
       "      dtype='object')"
      ]
     },
     "execution_count": 83,
     "metadata": {},
     "output_type": "execute_result"
    }
   ],
   "source": [
    "print(stormevents2013['EVENT_NARRATIVE'].isna().value_counts())\n",
    "stormevents2013.shape\n",
    "stormevents2013.select_dtypes(include=['object']).columns\n",
    "#print(stormevents.columns)\n",
    "#stormevents2013['DAMAGE_PROPERTY'].describe()\n"
   ]
  },
  {
   "cell_type": "code",
   "execution_count": 96,
   "id": "ca4e0e36",
   "metadata": {},
   "outputs": [
    {
     "name": "stdout",
     "output_type": "stream",
     "text": [
      "12884    5.0\n",
      "15573    1.0\n",
      "Name: CATEGORY, dtype: float64\n",
      "232               UNION\n",
      "704          COLUMBIANA\n",
      "4081     EAST FELICIANA\n",
      "5019               POLK\n",
      "5403            DE SOTO\n",
      "              ...      \n",
      "59690         KOSCIUSKO\n",
      "59774            PUTNAM\n",
      "59775          PAULDING\n",
      "59782            WABASH\n",
      "59949        PALM BEACH\n",
      "Name: TOR_OTHER_CZ_NAME, Length: 143, dtype: object\n"
     ]
    },
    {
     "data": {
      "text/plain": [
       "DATA_SOURCE\n",
       "CSV    59986\n",
       "Name: count, dtype: int64"
      ]
     },
     "execution_count": 96,
     "metadata": {},
     "output_type": "execute_result"
    }
   ],
   "source": [
    "print(stormevents2013['CATEGORY'][stormevents2013['CATEGORY'].isna()==False])\n",
    "print(stormevents2013['TOR_OTHER_CZ_NAME'][stormevents2013['TOR_OTHER_CZ_NAME'].isna()==False])\n",
    "\n",
    "stormevents2013['DATA_SOURCE'].value_counts()"
   ]
  }
 ],
 "metadata": {
  "kernelspec": {
   "display_name": ".venv",
   "language": "python",
   "name": "python3"
  },
  "language_info": {
   "codemirror_mode": {
    "name": "ipython",
    "version": 3
   },
   "file_extension": ".py",
   "mimetype": "text/x-python",
   "name": "python",
   "nbconvert_exporter": "python",
   "pygments_lexer": "ipython3",
   "version": "3.11.4"
  }
 },
 "nbformat": 4,
 "nbformat_minor": 5
}
